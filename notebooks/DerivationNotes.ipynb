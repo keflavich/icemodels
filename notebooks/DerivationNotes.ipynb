{
 "cells": [
  {
   "cell_type": "markdown",
   "id": "90c0699a-9877-4ad1-8335-d30d692ac4ac",
   "metadata": {},
   "source": [
    "### Ice Shapes\n",
    "S4.4 of Gerakines & Hudson 2020 (https://iopscience.iop.org/article/10.3847/1538-4357/abad39) gives \"IR absorption coefficient α(ν̃) (in cm−1)\":\n",
    "$$\\alpha(\\tilde{\\nu}) = 4 \\pi \\tilde{\\nu} k(\\tilde{\\nu})$$\n",
    "and the band strength A (in cm molecule−1):\n",
    "$$A = \\frac{1}{\\rho_N} \\int_{band} \\alpha(\\tilde{\\nu})d \\tilde{\\nu}$$"
   ]
  },
  {
   "cell_type": "markdown",
   "id": "93dca05f-b613-4951-8f32-c299750cbf10",
   "metadata": {},
   "source": [
    "Some algebra to get $\\tau$, the observable, from the data:\n",
    "\n",
    "$$A N = \\int \\tau_\\nu d\\nu$$\n",
    "\n",
    "$$\\frac{d}{d\\nu} A N = \\frac{d}{d\\nu}\\int \\tau_\\nu d\\nu$$\n",
    "\n",
    "$$N \\frac{d}{d\\nu} A = \\tau_\\nu $$\n",
    "\n",
    "$$N \\frac{\\alpha_\\nu}{\\rho_N} = \\tau_\\nu $$"
   ]
  },
  {
   "cell_type": "markdown",
   "id": "e6894a7f-e681-4df6-b0a1-f08d8cc4816b",
   "metadata": {},
   "source": [
    "$$\\tau_\\nu = N \\frac{\\alpha_\\nu}{\\rho_N} = N \\frac{4 \\pi \\tilde{\\nu} k}{\\rho_N}$$"
   ]
  }
 ],
 "metadata": {
  "kernelspec": {
   "display_name": "py39forge",
   "language": "python",
   "name": "py39forge"
  },
  "language_info": {
   "codemirror_mode": {
    "name": "ipython",
    "version": 3
   },
   "file_extension": ".py",
   "mimetype": "text/x-python",
   "name": "python",
   "nbconvert_exporter": "python",
   "pygments_lexer": "ipython3",
   "version": "3.9.13"
  }
 },
 "nbformat": 4,
 "nbformat_minor": 5
}
